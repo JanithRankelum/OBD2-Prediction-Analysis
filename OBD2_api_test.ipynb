{
  "nbformat": 4,
  "nbformat_minor": 0,
  "metadata": {
    "colab": {
      "provenance": [],
      "mount_file_id": "1h3ZG0pOjALXJdzVU4OMaQJDpafwZYj2G",
      "authorship_tag": "ABX9TyNRZbiQOVM1KpaFsncBYmF2",
      "include_colab_link": true
    },
    "kernelspec": {
      "name": "python3",
      "display_name": "Python 3"
    },
    "language_info": {
      "name": "python"
    }
  },
  "cells": [
    {
      "cell_type": "markdown",
      "metadata": {
        "id": "view-in-github",
        "colab_type": "text"
      },
      "source": [
        "<a href=\"https://colab.research.google.com/github/JanithRankelum/OBD2-Prediction-Analysis/blob/master/OBD2_api_test.ipynb\" target=\"_parent\"><img src=\"https://colab.research.google.com/assets/colab-badge.svg\" alt=\"Open In Colab\"/></a>"
      ]
    },
    {
      "cell_type": "code",
      "execution_count": 5,
      "metadata": {
        "colab": {
          "base_uri": "https://localhost:8080/"
        },
        "id": "Fw2U0HW0Gf7z",
        "outputId": "50a71202-b674-448b-eb6a-a48f539cacfb"
      },
      "outputs": [
        {
          "output_type": "stream",
          "name": "stdout",
          "text": [
            "{\"message\":\"Vehicle Maintenance Prediction API is running!\"}\n",
            "\n"
          ]
        }
      ],
      "source": [
        "import requests\n",
        "\n",
        "API_URL = \"https://fdb6-34-80-122-124.ngrok-free.app\"  # Replace with your actual ngrok URL\n",
        "\n",
        "response = requests.get(API_URL)\n",
        "print(response.text)  # Should return: {\"message\": \"Vehicle Maintenance Prediction API is running!\"}\n"
      ]
    },
    {
      "cell_type": "code",
      "source": [
        "import requests\n",
        "\n",
        "API_URL = \"https://fdb6-34-80-122-124.ngrok-free.app/predict\"  # Update with your actual ngrok URL\n",
        "\n",
        "data = {\n",
        "    \"COOLANT_TEMPERATURE\": 150,\n",
        "    \"ENGINE_LOAD\": 150,\n",
        "    \"ENGINE_RPM\": 5000,\n",
        "    \"FUEL_TANK\": 1000,\n",
        "    \"VEHICLE_SPEED\": 120,\n",
        "    \"ENGINE_RUN_TINE\": 1000,\n",
        "    \"INTAKE_AIR_TEMP\": 330,\n",
        "    \"INTAKE_MANIFOLD_PRESSURE\": 500\n",
        "}\n",
        "\n",
        "headers = {\"Content-Type\": \"application/json\"}\n",
        "\n",
        "response = requests.post(API_URL, json=data, headers=headers)\n",
        "\n",
        "print(\"Status Code:\", response.status_code)\n",
        "print(\"Response JSON:\", response.json())  # Show API prediction response\n"
      ],
      "metadata": {
        "colab": {
          "base_uri": "https://localhost:8080/"
        },
        "id": "nHRsv0Z0uGOq",
        "outputId": "0c6d8821-9025-4cfe-8f55-62d7fe052de3"
      },
      "execution_count": 17,
      "outputs": [
        {
          "output_type": "stream",
          "name": "stdout",
          "text": [
            "Status Code: 200\n",
            "Response JSON: {'engine_health': 0, 'fuel_consumption': 21.62762506537163, 'mileage': 85.3611767633896}\n"
          ]
        }
      ]
    },
    {
      "cell_type": "code",
      "source": [
        "import requests\n",
        "\n",
        "API_URL = \"https://fdb6-34-80-122-124.ngrok-free.app/predict\"  # Update with your actual ngrok URL\n",
        "\n",
        "data = {\n",
        "    \"COOLANT_TEMPERATURE\": 90,\n",
        "    \"ENGINE_LOAD\": 40,\n",
        "    \"ENGINE_RPM\": 2000,\n",
        "    \"FUEL_TANK\": 50,\n",
        "    \"VEHICLE_SPEED\": 60,\n",
        "    \"ENGINE_RUN_TINE\": 500,\n",
        "    \"INTAKE_AIR_TEMP\": 30,\n",
        "    \"INTAKE_MANIFOLD_PRESSURE\": 100\n",
        "}\n",
        "\n",
        "headers = {\"Content-Type\": \"application/json\"}\n",
        "\n",
        "response = requests.post(API_URL, json=data, headers=headers)\n",
        "\n",
        "print(\"Status Code:\", response.status_code)\n",
        "print(\"Response JSON:\", response.json())  # Show API prediction response\n"
      ],
      "metadata": {
        "colab": {
          "base_uri": "https://localhost:8080/"
        },
        "id": "wJRcksgV7IWa",
        "outputId": "c90708e5-9f42-457d-b7c5-be45384239fe"
      },
      "execution_count": 18,
      "outputs": [
        {
          "output_type": "stream",
          "name": "stdout",
          "text": [
            "Status Code: 200\n",
            "Response JSON: {'engine_health': 1, 'fuel_consumption': 10.364885657780091, 'mileage': 94.35065194654955}\n"
          ]
        }
      ]
    }
  ]
}